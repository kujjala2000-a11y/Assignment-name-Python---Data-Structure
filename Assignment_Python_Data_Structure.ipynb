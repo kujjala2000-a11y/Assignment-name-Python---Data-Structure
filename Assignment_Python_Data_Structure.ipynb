{
  "nbformat": 4,
  "nbformat_minor": 0,
  "metadata": {
    "colab": {
      "provenance": []
    },
    "kernelspec": {
      "name": "python3",
      "display_name": "Python 3"
    },
    "language_info": {
      "name": "python"
    }
  },
  "cells": [
    {
      "cell_type": "markdown",
      "source": [
        "Assignment : Python - Data Structure\n"
      ],
      "metadata": {
        "id": "h82lskGgqOha"
      }
    },
    {
      "cell_type": "markdown",
      "source": [
        "DATA TYPE AND DATA STRUCTURE THEORITICAL Q & A"
      ],
      "metadata": {
        "id": "5iTvgRLDqSOB"
      }
    },
    {
      "cell_type": "markdown",
      "source": [
        "1. What are data structures, and why are they important?\n",
        "  - Data structures are the way of organizing and storing the data so that it can be accessed and modified efficiently. eg, Tuple, String, List, Dictionary, array etc. They are important because they are crucial for efficient data management and algorithm implementation, impacting the performance and scalability of software applications.\n",
        "\n",
        "2. Explain the difference between mutable and immutable data types with examples?\n",
        "  - Mutable data types are the type of data type which can be changed after its creation. eg, lists, dictionary, etc.\n",
        "  \n",
        "    Example: list=[1,2,3] list[0]=4 #here now the original list[1,2,3] after list[0]=4 has become list[4,2,3]\n",
        "    Immutable data types are the type of data type which cannot be changed after its creation. eg, Tuple, String. Example: my_tuple = (1, 2, 3) my_tuple[0] = 4 # This will raise a TypeError\n",
        "\n",
        "3. What are the main differences between lists and tuples in Python?\n",
        "\n",
        "  - Main Differences Between Lists and Tuples in Python:\n",
        "\n",
        "    Mutability:\n",
        "\n",
        "    Lists: Mutable — you can modify elements, add, or remove items. Tuples: Immutable — once created, they cannot be changed.\n",
        "  \n",
        "    Syntax:\n",
        "\n",
        "    Lists: Defined with square brackets — [1, 2, 3] Tuples: Defined with parentheses — (1, 2, 3)\n",
        "    \n",
        "    Performance:\n",
        "\n",
        "    Lists: Slightly slower than tuples due to mutability. Tuples: Faster and more memory-efficient.\n",
        "\n",
        "    Use Case:\n",
        "\n",
        "    Lists: Great when you need a dynamic, changeable collection (e.g., shopping cart). Tuples: Ideal for fixed data — like coordinates or function argument grouping.\n",
        "\n",
        "    Safety:\n",
        "\n",
        "    Lists: Higher risk of accidental modification. Tuples: Safer when data integrity is important.\n",
        "\n",
        "4. Describe how dictionaries store data?\n",
        "  - Dictionaries store data in key-value pairs. Each key is hashed to a unique index in an array where the corresponding value is stored. Example: dict = {'name': 'Amitava', 'age': 33} Here name is key while Amitava is value of key.\n",
        "\n",
        "5. Why might you use a set instead of a list in Python?\n",
        "  - A set in Python is an unordered collection of unique elements. While lists allow duplicates and preserve order, sets are your go-to when uniqueness and fast lookup matter.\n",
        "\n",
        "    Reasons to Use a Set Over a List\n",
        "\n",
        "    Eliminate Duplicates Automatically--- If we are collecting data where duplicates aren’t useful—like usernames, tags, or IDs—a set ensures each item is stored only once.\n",
        "\n",
        "    Faster Membership Testing--- Checking if an item exists in a set is much faster than in a list thanks to hashing. Great for large datasets.\n",
        "\n",
        "    Set Operations--- Sets support powerful operations like union, intersection, and difference perfect for filtering, merging, or finding commonalities between groups.\n",
        "\n",
        "6. What is a string in Python, and how is it different from a list?\n",
        "\n",
        "  - A string is a sequence of characters enclosed within single quotes ('...') or double quotes (\"...\"). It’s used to represent text—like words, sentences, or even symbols.\n",
        "\n",
        "    greeting = \"Hello, world!\"\n",
        "\n",
        "    Strings are immutable, meaning once created, their contents can’t be changed. we can access characters by index, slice portions, or concatenate them, but any operation that modifies the string results in a new one.\n",
        "\n",
        "    Strings vs Lists in Python\n",
        "\n",
        "    Basic Nature\n",
        "\n",
        "    A string is a sequence of characters, used to represent text. A list is a sequence of elements, which can be of any data type—numbers, strings, booleans, even other lists. Mutability\n",
        "\n",
        "    Strings are immutable — you can’t change characters directly. Lists are mutable — you can modify, add, or remove elements.\n",
        "\n",
        "7. How do tuples ensure data integrity in Python?\n",
        "\n",
        "  - Since tuples are immutable in nature thats why, Once created, the elements of a tuple cannot be changed, ensuring that the data remains constant.\n",
        "\n",
        "8. What is a hash table, and how does it relate to dictionaries in Python?\n",
        "\n",
        "  - Hash Table: A data structure that maps keys to values using a hash function to compute an index into an array of buckets or slots.\n",
        "  \n",
        "  Relation to Dictionaries: Python dictionaries are implemented using hash tables.\n",
        "\n",
        "9. Can lists contain different data types in Python?\n",
        "\n",
        "  - Yes: Lists can contain elements of different data types, such as integers, strings, and even other lists. eg, mylist=[1,'Ujjala',3.5]\n",
        "\n",
        "10. Explain why strings are immutable in Python?\n",
        "\n",
        "  - Immutability helps with performance optimization, memory efficiency, and thread safety. It also allows strings to be used as keys in dictionaries.\n",
        "\n",
        "11. What advantages do dictionaries offer over lists for certain tasks?\n",
        "\n",
        "  - Key-Value Mapping: Efficient for lookups, insertions, and deletions based on keys. Example: Storing user information where quick access to user details by username is needed.\n",
        "\n",
        "12. Describe a scenario where using a tuple would be preferable over a list?\n",
        "\n",
        "  - Storing coordinates of a point (x, y) where the values should not change.\n",
        "\n",
        "13. How do sets handle duplicate values in Python?\n",
        "\n",
        "  - Python set data structures inherently do not allow duplicate values. When we attempt to add duplicate values to a set, or when we create a set from an iterable that contains duplicates, the set will automatically discard the duplicates, storing only one instance of each unique element.\n",
        "\n",
        "14. How does the “in” keyword work differently for lists and dictionaries?\n",
        "\n",
        "  - In List \"in\" Checks for the presence of a value as an element. In Dictionary \"in\" checks for the presence of a key.\n",
        "\n",
        "15. Can you modify the elements of a tuple? Explain why or why not?\n",
        "\n",
        "  - No, we cannot modify the elements of a tuple in Python because Tuples are designed to be immutable, meaning that once a tuple is created, its contents are permanently fixed. we cannot add, remove, or change individual elements within it.\n",
        "\n",
        "16. What is a nested dictionary, and give an example of its use case?\n",
        "\n",
        "  - A nested dictionary is the dictionary within another dictionary. nested_dict = {'user1': {'name': 'Ujjala', 'age': 25}, 'user2': {'name': 'Santu', 'age': 22}}\n",
        "\n",
        "17. Describe the time complexity of accessing elements in a dictionary.\n",
        "\n",
        "  - The time complexity of accessing elements in a Python dictionary (ie., looking up a value using its key) is, on average, O(1) (constant time).\n",
        "\n",
        "18. In what situations are lists preferred over dictionaries?\n",
        "\n",
        "  - When data naturally fits a sequence, where order and positional access are important, and duplicates are acceptable, a list is the preffered choice.\n",
        "\n",
        "19. Why are dictionaries considered unordered, and how does that affect data retrieval?\n",
        "\n",
        "  - Dictionaries are designed for fast, direct access to values when we have the unique key. Their \"unordered\" nature means we trade index-based access for extremely efficient key-based retrieval, making them ideal for mapping and lookup tasks. We cannot retrieve items using integer indices like my_dict[0]. We must know the exact key to retrieve its associated value. Data retrieval is inherently driven by the key. If we don't know the key, we have to iterate through the dictionary's keys or values to find what we're looking for, which is less efficient than a direct key lookup.\n",
        "\n",
        "20. Explain the difference between a list and a dictionary in terms of data retrieval.\n",
        "\n",
        "  - Lists are for ordered collections where you want to retrieve \"the Nth item,\" like List[1].\n",
        "while dictionaries are for unordered collections where you want to retrieve \"the item named X. eg, my_dict = {'name': 'Ujjala', 'age': 25, 'city': 'Kolkata'} person_name = my_dict['name'] person_age = my_age['age']"
      ],
      "metadata": {
        "id": "Rm-5KxXKqV-o"
      }
    },
    {
      "cell_type": "markdown",
      "source": [
        "DATA TYPE AND DATA STRUCTURE PRACTICAL Q & A"
      ],
      "metadata": {
        "id": "3FvXYUnauKtA"
      }
    },
    {
      "cell_type": "code",
      "source": [
        "#Q1. Write a code to create a string with your name and print it.\n",
        "# creating string\n",
        "name= \"Ujjala\"\n",
        "\n",
        "#printing string\n",
        "print(f\"My name is {name}.\")"
      ],
      "metadata": {
        "colab": {
          "base_uri": "https://localhost:8080/"
        },
        "id": "JkJ6kISquQvl",
        "outputId": "4758c7b1-89b2-40bf-e960-ba46d7ed126a"
      },
      "execution_count": null,
      "outputs": [
        {
          "output_type": "stream",
          "name": "stdout",
          "text": [
            "My name is Ujjala.\n"
          ]
        }
      ]
    },
    {
      "cell_type": "code",
      "source": [
        "#Q2. Write a code to find the length of the string \"Hello World\".\n",
        "# creating string\n",
        "str=\"hello\"\n",
        "lenght_str=len(str)\n",
        "\n",
        "#printing length of string\n",
        "print(f\"Length of string is {lenght_str}.\")"
      ],
      "metadata": {
        "colab": {
          "base_uri": "https://localhost:8080/"
        },
        "id": "b1SkZeLsuUP9",
        "outputId": "ca0ac48e-7141-4ace-fdb9-61a2cbde1c56"
      },
      "execution_count": null,
      "outputs": [
        {
          "output_type": "stream",
          "name": "stdout",
          "text": [
            "Length of string is 5.\n"
          ]
        }
      ]
    },
    {
      "cell_type": "code",
      "source": [
        "#Q3. Write a code to slice the first 3 characters from the string \"Python Programming\".\n",
        "\n",
        "# creating string\n",
        "str=\"Python Programming\"\n",
        "\n",
        "# slicing for first 3 characters\n",
        "str[0:3]"
      ],
      "metadata": {
        "colab": {
          "base_uri": "https://localhost:8080/",
          "height": 35
        },
        "id": "HcQ-dMqAuX4l",
        "outputId": "77fe780c-adb4-4b8c-978c-3e3a579fa9ed"
      },
      "execution_count": null,
      "outputs": [
        {
          "output_type": "execute_result",
          "data": {
            "text/plain": [
              "'Pyt'"
            ],
            "application/vnd.google.colaboratory.intrinsic+json": {
              "type": "string"
            }
          },
          "metadata": {},
          "execution_count": 3
        }
      ]
    },
    {
      "cell_type": "code",
      "source": [
        "#Q4. Write a code to convert the string \"hello\" to uppercase.\n",
        "\n",
        "# creating string\n",
        "str=\"hello\"\n",
        "\n",
        "# apply uppercase method\n",
        "str.upper()"
      ],
      "metadata": {
        "colab": {
          "base_uri": "https://localhost:8080/",
          "height": 35
        },
        "id": "c5FV2a6luZj-",
        "outputId": "d1a6bcc8-eabb-4030-bbad-0fb03ca75a51"
      },
      "execution_count": null,
      "outputs": [
        {
          "output_type": "execute_result",
          "data": {
            "text/plain": [
              "'HELLO'"
            ],
            "application/vnd.google.colaboratory.intrinsic+json": {
              "type": "string"
            }
          },
          "metadata": {},
          "execution_count": 4
        }
      ]
    },
    {
      "cell_type": "code",
      "source": [
        "#Q5. Write a code to replace the word \"apple\" with \"orange\" in the string \"I like apple\".\n",
        "\n",
        "# Original string\n",
        "String = \"I like apple\"\n",
        "\n",
        "# Replacing 'apple' with 'orange'\n",
        "repString = String.replace('apple', 'orange')\n",
        "\n",
        "# Printing the updated string\n",
        "print(repString)"
      ],
      "metadata": {
        "colab": {
          "base_uri": "https://localhost:8080/"
        },
        "id": "flQt8Mlzudx6",
        "outputId": "5292b424-49a7-462e-c433-83495681bd5f"
      },
      "execution_count": null,
      "outputs": [
        {
          "output_type": "stream",
          "name": "stdout",
          "text": [
            "I like orange\n"
          ]
        }
      ]
    },
    {
      "cell_type": "code",
      "source": [
        "#Q6. Write a code to create a list with numbers 1 to 5 and print it.\n",
        "# Creating a list with numbers from 1 to 5\n",
        "number_list = [1, 2, 3, 4, 5]\n",
        "\n",
        "# Printing the list\n",
        "print(f\"list :{number_list}\")"
      ],
      "metadata": {
        "colab": {
          "base_uri": "https://localhost:8080/"
        },
        "id": "LeWq97akuf1b",
        "outputId": "898190d4-4168-4741-d358-73ad06b4e15b"
      },
      "execution_count": null,
      "outputs": [
        {
          "output_type": "stream",
          "name": "stdout",
          "text": [
            "list :[1, 2, 3, 4, 5]\n"
          ]
        }
      ]
    },
    {
      "cell_type": "code",
      "source": [
        "#Q7. Write a code to append the number 10 to the list [1, 2, 3, 4].\n",
        "\n",
        "# Original list\n",
        "numbers = [1, 2, 3, 4]\n",
        "print(f\"original list : {numbers}\")\n",
        "\n",
        "# Appending the number 10\n",
        "numbers.append(10)\n",
        "\n",
        "# Printing the updated list\n",
        "print(f\" new list : {numbers}\")"
      ],
      "metadata": {
        "colab": {
          "base_uri": "https://localhost:8080/"
        },
        "id": "xyVQEWBPuivS",
        "outputId": "2959f7c8-0c22-4be8-e636-7338bc054aff"
      },
      "execution_count": null,
      "outputs": [
        {
          "output_type": "stream",
          "name": "stdout",
          "text": [
            "original list : [1, 2, 3, 4]\n",
            " new list : [1, 2, 3, 4, 10]\n"
          ]
        }
      ]
    },
    {
      "cell_type": "code",
      "source": [
        "#Q8. Write a code to remove the number 3 from the list [1, 2, 3, 4, 5].\n",
        "\n",
        "# Original list\n",
        "numbers = [1, 2, 3, 4, 5]\n",
        "print(f\"original list : {numbers}\")\n",
        "\n",
        "# Removing the number 3\n",
        "numbers.remove(3)\n",
        "\n",
        "# Printing the updated list\n",
        "print(f\" new list : {numbers}\")"
      ],
      "metadata": {
        "colab": {
          "base_uri": "https://localhost:8080/"
        },
        "id": "-BkF_WcLukWR",
        "outputId": "e68e9579-3c40-4f90-f7dc-c1a30cb561f9"
      },
      "execution_count": null,
      "outputs": [
        {
          "output_type": "stream",
          "name": "stdout",
          "text": [
            "original list : [1, 2, 3, 4, 5]\n",
            " new list : [1, 2, 4, 5]\n"
          ]
        }
      ]
    },
    {
      "cell_type": "code",
      "source": [
        "#Q9. Write a code to access the second element in the list ['a', 'b', 'c', 'd'].\n",
        "# List of elements\n",
        "letters = ['a', 'b', 'c', 'd']\n",
        "\n",
        "# Accessing the second element\n",
        "second_element = letters[1]\n",
        "\n",
        "# Printing the second element\n",
        "print(\"The second element is:\", second_element)"
      ],
      "metadata": {
        "colab": {
          "base_uri": "https://localhost:8080/"
        },
        "id": "K8VR5mOzuoBO",
        "outputId": "d42ba0c8-a291-42d5-a8c1-3154a603ac0f"
      },
      "execution_count": null,
      "outputs": [
        {
          "output_type": "stream",
          "name": "stdout",
          "text": [
            "The second element is: b\n"
          ]
        }
      ]
    },
    {
      "cell_type": "code",
      "source": [
        "#Q10. Write a code to reverse the list [10, 20, 30, 40, 50].\n",
        "\n",
        "# Original list\n",
        "numbers = [10, 20, 30, 40, 50]\n",
        "print(f\"original list : {numbers}\")\n",
        "\n",
        "# Reversing the list\n",
        "reversed_numbers = numbers[::-1]\n",
        "\n",
        "# Printing the reversed list\n",
        "print(f\" reversed list : {reversed_numbers}\")"
      ],
      "metadata": {
        "colab": {
          "base_uri": "https://localhost:8080/"
        },
        "id": "nISeaYlKurPp",
        "outputId": "fdbba4bf-8162-4d7d-ca3d-ef36e7953556"
      },
      "execution_count": null,
      "outputs": [
        {
          "output_type": "stream",
          "name": "stdout",
          "text": [
            "original list : [10, 20, 30, 40, 50]\n",
            " reversed list : [50, 40, 30, 20, 10]\n"
          ]
        }
      ]
    },
    {
      "cell_type": "code",
      "source": [
        "#Q11.  Write a code to create a tuple with the elements 100, 200, 300 and print it.\n",
        "\n",
        "# Creating a tuple with elements 100, 200, and 300\n",
        "my_tuple = (100, 200, 300)\n",
        "\n",
        "# Printing the tuple\n",
        "print(my_tuple)"
      ],
      "metadata": {
        "colab": {
          "base_uri": "https://localhost:8080/"
        },
        "id": "LHpCyENyus3B",
        "outputId": "ae17889a-b827-4a32-e1d9-4af3c23d6b49"
      },
      "execution_count": null,
      "outputs": [
        {
          "output_type": "stream",
          "name": "stdout",
          "text": [
            "(100, 200, 300)\n"
          ]
        }
      ]
    },
    {
      "cell_type": "code",
      "source": [
        "#Q12. Write a code to access the second-to-last element of the tuple ('red', 'green', 'blue', 'yellow').\n",
        "\n",
        "# Tuple of colors\n",
        "colors = ('red', 'green', 'blue', 'yellow')\n",
        "\n",
        "# Accessing the second-to-last element\n",
        "second_last = colors[-2]\n",
        "\n",
        "# Printing the result\n",
        "print(\"The second-to-last element is:\", second_last)"
      ],
      "metadata": {
        "colab": {
          "base_uri": "https://localhost:8080/"
        },
        "id": "wK5hEM-0uwnh",
        "outputId": "0a0e9aff-2516-4d23-bc2f-259ea866ac8e"
      },
      "execution_count": null,
      "outputs": [
        {
          "output_type": "stream",
          "name": "stdout",
          "text": [
            "The second-to-last element is: blue\n"
          ]
        }
      ]
    },
    {
      "cell_type": "code",
      "source": [
        "#Q13. Write a code to find the minimum number in the tuple (10, 20, 5, 15).\n",
        "\n",
        "# Tuple of numbers\n",
        "numbers = (10, 20, 5, 15)\n",
        "\n",
        "# Finding the minimum number\n",
        "minimum_value = min(numbers)\n",
        "\n",
        "# Printing the result\n",
        "print(\"The minimum number is:\", minimum_value)"
      ],
      "metadata": {
        "colab": {
          "base_uri": "https://localhost:8080/"
        },
        "id": "Bx3YS8JwuydI",
        "outputId": "89937d31-2ac0-4aff-867e-a0efeeb14887"
      },
      "execution_count": null,
      "outputs": [
        {
          "output_type": "stream",
          "name": "stdout",
          "text": [
            "The minimum number is: 5\n"
          ]
        }
      ]
    },
    {
      "cell_type": "code",
      "source": [
        "#Q14. Write a code to find the index of the element \"cat\" in the tuple ('dog', 'cat', 'rabbit').\n",
        "\n",
        "# Tuple of animals\n",
        "animals = ('dog', 'cat', 'rabbit')\n",
        "\n",
        "# Finding the index of \"cat\"\n",
        "cat_index = animals.index('cat')\n",
        "\n",
        "# Printing the result\n",
        "print(\"The index of 'cat' is:\", cat_index)"
      ],
      "metadata": {
        "colab": {
          "base_uri": "https://localhost:8080/"
        },
        "id": "sH6LTM9gu1y-",
        "outputId": "5dd5b507-5f48-493e-9a31-70066c906df4"
      },
      "execution_count": null,
      "outputs": [
        {
          "output_type": "stream",
          "name": "stdout",
          "text": [
            "The index of 'cat' is: 1\n"
          ]
        }
      ]
    },
    {
      "cell_type": "code",
      "source": [
        "#Q15. Write a code to create a tuple containing three different fruits and check if \"kiwi\" is in it.\n",
        "\n",
        "# Creating a tuple with three fruits\n",
        "fruits = ('apple', 'banana', 'mango')\n",
        "\n",
        "# Checking if 'kiwi' is in the tuple\n",
        "is_kiwi_present = 'kiwi' in fruits\n",
        "\n",
        "# Printing the result\n",
        "print(\"Is 'kiwi' in the tuple?\", is_kiwi_present)"
      ],
      "metadata": {
        "colab": {
          "base_uri": "https://localhost:8080/"
        },
        "id": "XSywGGtcu4N_",
        "outputId": "4d47c3b9-4941-47b3-d5e9-78dcdbba231f"
      },
      "execution_count": null,
      "outputs": [
        {
          "output_type": "stream",
          "name": "stdout",
          "text": [
            "Is 'kiwi' in the tuple? False\n"
          ]
        }
      ]
    },
    {
      "cell_type": "code",
      "source": [
        "#Q16.  Write a code to create a set with the elements 'a', 'b', 'c' and print it.\n",
        "\n",
        "# Creating a set with elements 'a', 'b', and 'c'\n",
        "my_set = {'a', 'b', 'c'}\n",
        "\n",
        "# Printing the set\n",
        "print(my_set)"
      ],
      "metadata": {
        "colab": {
          "base_uri": "https://localhost:8080/"
        },
        "id": "sg0xZ00Nu9Ac",
        "outputId": "26281766-1fe7-46fc-f224-fe3b218c147d"
      },
      "execution_count": null,
      "outputs": [
        {
          "output_type": "stream",
          "name": "stdout",
          "text": [
            "{'c', 'a', 'b'}\n"
          ]
        }
      ]
    },
    {
      "cell_type": "code",
      "source": [
        "#Q17. Write a code to clear all elements from the set {1, 2, 3, 4, 5}.\n",
        "\n",
        "# Original set\n",
        "alphSet =  {1, 2, 3, 4, 5}\n",
        "\n",
        "# Clearing the set\n",
        "clearSet = alphSet.clear()\n",
        "\n",
        "# Printing the empty set\n",
        "print(clearSet)"
      ],
      "metadata": {
        "colab": {
          "base_uri": "https://localhost:8080/"
        },
        "id": "tZzQM2mzu_2v",
        "outputId": "021643cf-5fa5-435b-84ff-fee19f12210d"
      },
      "execution_count": null,
      "outputs": [
        {
          "output_type": "stream",
          "name": "stdout",
          "text": [
            "None\n"
          ]
        }
      ]
    },
    {
      "cell_type": "code",
      "source": [
        "#Q18. Write a code to remove the element 4 from the set {1, 2, 3, 4}.\n",
        "\n",
        "# Original set\n",
        "numbers = {1, 2, 3, 4}\n",
        "\n",
        "# Removing the element 4\n",
        "numbers.remove(4)\n",
        "\n",
        "# Printing the updated set\n",
        "print(numbers)"
      ],
      "metadata": {
        "colab": {
          "base_uri": "https://localhost:8080/"
        },
        "id": "ysNhiqJavCmP",
        "outputId": "0fa07900-7023-4a88-dc2e-9c9369e0b4f3"
      },
      "execution_count": null,
      "outputs": [
        {
          "output_type": "stream",
          "name": "stdout",
          "text": [
            "{1, 2, 3}\n"
          ]
        }
      ]
    },
    {
      "cell_type": "code",
      "source": [
        "#Q19.  Write a code to find the union of two sets {1, 2, 3} and {3, 4, 5}.\n",
        "\n",
        "# Define the sets\n",
        "set1 = {1, 2, 3}\n",
        "set2 = {3, 4, 5}\n",
        "\n",
        "# Compute the union\n",
        "union_set = set1.union(set2)\n",
        "\n",
        "# Display the result\n",
        "print(\"Union of sets:\", union_set)\n"
      ],
      "metadata": {
        "colab": {
          "base_uri": "https://localhost:8080/"
        },
        "id": "2YUauF77vEQp",
        "outputId": "69fadbe7-9f9e-4ab8-8372-2880f7aa5f49"
      },
      "execution_count": null,
      "outputs": [
        {
          "output_type": "stream",
          "name": "stdout",
          "text": [
            "Union of sets: {1, 2, 3, 4, 5}\n"
          ]
        }
      ]
    },
    {
      "cell_type": "code",
      "source": [
        "#Q20. Write a code to find the intersection of two sets {1, 2, 3} and {2, 3, 4}.\n",
        "\n",
        "# Defining the sets\n",
        "set1 = {1, 2, 3}\n",
        "set2 = {2, 3, 4}\n",
        "\n",
        "# Finding the intersection\n",
        "intersection = set1.intersection(set2)\n",
        "\n",
        "# Printing the result\n",
        "print(\"Intersection of sets:\", intersection)"
      ],
      "metadata": {
        "colab": {
          "base_uri": "https://localhost:8080/"
        },
        "id": "T3waZg3CvHQf",
        "outputId": "2d443dbf-6bee-4c89-f45e-4e7ba0cc5e68"
      },
      "execution_count": null,
      "outputs": [
        {
          "output_type": "stream",
          "name": "stdout",
          "text": [
            "Intersection of sets: {2, 3}\n"
          ]
        }
      ]
    },
    {
      "cell_type": "code",
      "source": [
        "#Q21.  Write a code to create a dictionary with the keys \"name\", \"age\", and \"city\", and print it.\n",
        "\n",
        "# Creating a dictionary with keys \"name\", \"age\", and \"city\"\n",
        "person_info = {\n",
        "    \"name\": \"Ujjala\",\n",
        "    \"age\": 25,\n",
        "    \"city\": \"Kolkata\"\n",
        "}\n",
        "\n",
        "# Printing the dictionary\n",
        "print(person_info)"
      ],
      "metadata": {
        "colab": {
          "base_uri": "https://localhost:8080/"
        },
        "id": "Tn3lLD7JvJCW",
        "outputId": "9b71a4df-4edc-44b1-e4ef-55cfc4be4a5e"
      },
      "execution_count": null,
      "outputs": [
        {
          "output_type": "stream",
          "name": "stdout",
          "text": [
            "{'name': 'Ujjala', 'age': 25, 'city': 'Kolkata'}\n"
          ]
        }
      ]
    },
    {
      "cell_type": "code",
      "source": [
        "#Q22. Write a code to add a new key-value pair \"country\": \"USA\" to the dictionary {'name': 'John', 'age': 25}.\n",
        "\n",
        "# Original dictionary\n",
        "person = {'name': 'Ujjala', 'age': 25}\n",
        "\n",
        "# Adding a new key-value pair\n",
        "person['country'] = 'India'\n",
        "\n",
        "# Printing the updated dictionary\n",
        "print(person)"
      ],
      "metadata": {
        "colab": {
          "base_uri": "https://localhost:8080/"
        },
        "id": "9VlDyBm-vP_p",
        "outputId": "1d655ac2-2a92-44a1-daf4-dfbb8cce5b7f"
      },
      "execution_count": null,
      "outputs": [
        {
          "output_type": "stream",
          "name": "stdout",
          "text": [
            "{'name': 'Ujjala', 'age': 25, 'country': 'India'}\n"
          ]
        }
      ]
    },
    {
      "cell_type": "code",
      "source": [
        "#Q23.  Write a code to access the value associated with the key \"name\" in the dictionary {'name': 'Alice', 'age': 30}.\n",
        "\n",
        " # Dictionary with person info\n",
        "person_info = {'name': 'Ujjala', 'age': 25}\n",
        "\n",
        "# Accessing the value for the key 'name'\n",
        "name_value = person_info['name']\n",
        "\n",
        "# Printing the result\n",
        "print(\"Name:\", name_value)"
      ],
      "metadata": {
        "colab": {
          "base_uri": "https://localhost:8080/"
        },
        "id": "d0Erj3b5vWLO",
        "outputId": "4614aad1-ba30-4925-c604-e11027cd5ee9"
      },
      "execution_count": null,
      "outputs": [
        {
          "output_type": "stream",
          "name": "stdout",
          "text": [
            "Name: Ujjala\n"
          ]
        }
      ]
    },
    {
      "cell_type": "code",
      "source": [
        "#Q24. Write a code to remove the key \"age\" from the dictionary {'name': 'Bob', 'age': 22, 'city': 'New York'}.\n",
        "\n",
        "# Original dictionary\n",
        "person_info = {'name': 'Ujjala', 'age': 25, 'city': 'Kolkata'}\n",
        "\n",
        "# Removing the key 'age'\n",
        "del person_info['age']\n",
        "\n",
        "# Printing the updated dictionary\n",
        "print(person_info)"
      ],
      "metadata": {
        "colab": {
          "base_uri": "https://localhost:8080/"
        },
        "id": "ELJpIbwHvdED",
        "outputId": "ad760330-4594-4482-8373-525238f2c895"
      },
      "execution_count": null,
      "outputs": [
        {
          "output_type": "stream",
          "name": "stdout",
          "text": [
            "{'name': 'Ujjala', 'city': 'Kolkata'}\n"
          ]
        }
      ]
    },
    {
      "cell_type": "code",
      "source": [
        "#Q25. Write a code to check if the key \"city\" exists in the dictionary {'name': 'Alice', 'city': 'Paris'}.\n",
        "\n",
        "# Dictionary to work with\n",
        "person_info = {'name': 'Ujjala', 'city': 'Kolkata'}\n",
        "\n",
        "# Checking if 'city' key exists\n",
        "has_city = 'city' in person_info\n",
        "\n",
        "# Printing the result\n",
        "print(\"Does 'city' exist in the dictionary?\", has_city)"
      ],
      "metadata": {
        "colab": {
          "base_uri": "https://localhost:8080/"
        },
        "id": "BD0Jau6qvkSD",
        "outputId": "1c213725-8e60-4376-a2c2-8b277ca896ff"
      },
      "execution_count": null,
      "outputs": [
        {
          "output_type": "stream",
          "name": "stdout",
          "text": [
            "Does 'city' exist in the dictionary? True\n"
          ]
        }
      ]
    },
    {
      "cell_type": "code",
      "source": [
        "#Q26. Write a code to create a list, a tuple, and a dictionary, and print them all.\n",
        "\n",
        "# Creating a list\n",
        "my_list = [1, 2, 3, 4, 5]\n",
        "\n",
        "# Creating a tuple\n",
        "my_tuple = ('a', 'b', 'c')\n",
        "\n",
        "# Creating a dictionary\n",
        "my_dict = {'name': 'Ujjala', 'age': 25, 'city': 'Kolkata'}\n",
        "\n",
        "# Printing all the structures\n",
        "print(\"List:\", my_list)\n",
        "print(\"Tuple:\", my_tuple)\n",
        "print(\"Dictionary:\", my_dict)"
      ],
      "metadata": {
        "colab": {
          "base_uri": "https://localhost:8080/"
        },
        "id": "yY4iKnUXvsHh",
        "outputId": "9b8f6bc7-f641-41e9-8833-03c9b7fc35c1"
      },
      "execution_count": null,
      "outputs": [
        {
          "output_type": "stream",
          "name": "stdout",
          "text": [
            "List: [1, 2, 3, 4, 5]\n",
            "Tuple: ('a', 'b', 'c')\n",
            "Dictionary: {'name': 'Ujjala', 'age': 25, 'city': 'Kolkata'}\n"
          ]
        }
      ]
    },
    {
      "cell_type": "code",
      "source": [
        "#27.Write a code to create a list of 5 random numbers between 1 and 100, sort it in ascending order, and print the result.(replaced)\n",
        "import random\n",
        "\n",
        "# Create a list of 5 random numbers between 1 and 100\n",
        "random_numbers = random.sample(range(1, 101), 5)\n",
        "\n",
        "# Sort the list in ascending order\n",
        "random_numbers.sort()\n",
        "\n",
        "# Print the result\n",
        "print(random_numbers)"
      ],
      "metadata": {
        "colab": {
          "base_uri": "https://localhost:8080/"
        },
        "id": "rDh3vkYLvzsb",
        "outputId": "e256eb5a-80d9-407f-fae7-dcb62eccda9c"
      },
      "execution_count": null,
      "outputs": [
        {
          "output_type": "stream",
          "name": "stdout",
          "text": [
            "[3, 12, 25, 54, 81]\n"
          ]
        }
      ]
    },
    {
      "cell_type": "code",
      "source": [
        "#Q28. Write a code to create a list with strings and print the element at the third index.\n",
        "\n",
        "# Creating a list with strings\n",
        "words = ['apple', 'banana', 'cherry', 'date', 'elderberry']\n",
        "print(f\"list : {words}\")\n",
        "\n",
        "# Accessing the element at the third index\n",
        "third_index_element = words[3]\n",
        "\n",
        "# Printing the result\n",
        "print(\"Element at index 3:\", third_index_element)"
      ],
      "metadata": {
        "colab": {
          "base_uri": "https://localhost:8080/"
        },
        "id": "J19W9Tqxv4sX",
        "outputId": "4e303126-1337-4e2d-c2df-adfc344bbd21"
      },
      "execution_count": null,
      "outputs": [
        {
          "output_type": "stream",
          "name": "stdout",
          "text": [
            "list : ['apple', 'banana', 'cherry', 'date', 'elderberry']\n",
            "Element at index 3: date\n"
          ]
        }
      ]
    },
    {
      "cell_type": "code",
      "source": [
        "#Q29. Write a code to combine two dictionaries into one and print the result.\n",
        "\n",
        "# Two dictionaries\n",
        "dict1 = {'name': 'Ujjala', 'age': 25}\n",
        "dict2 = {'city': 'Kolkata', 'country': 'India'}\n",
        "print(f\"dict1 :{dict1}\")\n",
        "print(f\"dict2 :{dict2}\")\n",
        "\n",
        "# Combine using update()\n",
        "dict1.update(dict2)\n",
        "\n",
        "# Printing the combined dictionary\n",
        "print(\"Combined dictionary:\", dict1)"
      ],
      "metadata": {
        "colab": {
          "base_uri": "https://localhost:8080/"
        },
        "id": "_jRT7VwGwFN9",
        "outputId": "c9ae6bf6-bb39-40ab-8274-948aef690e09"
      },
      "execution_count": null,
      "outputs": [
        {
          "output_type": "stream",
          "name": "stdout",
          "text": [
            "dict1 :{'name': 'Ujjala', 'age': 25}\n",
            "dict2 :{'city': 'Kolkata', 'country': 'India'}\n",
            "Combined dictionary: {'name': 'Ujjala', 'age': 25, 'city': 'Kolkata', 'country': 'India'}\n"
          ]
        }
      ]
    },
    {
      "cell_type": "code",
      "source": [
        "#Q30.  Write a code to convert a list of strings into a set.\n",
        "\n",
        "# List of strings\n",
        "string_list = ['apple', 'banana', 'cherry', 'apple', 'banana']\n",
        "print(f\"list of strings : {string_list}\")\n",
        "# Converting the list to a set\n",
        "string_set = set(string_list)\n",
        "\n",
        "# Printing the set\n",
        "print(\"Set of strings:\", string_set)"
      ],
      "metadata": {
        "colab": {
          "base_uri": "https://localhost:8080/"
        },
        "id": "huwXUsc9wIzY",
        "outputId": "4e9ea267-26a0-4c41-844c-3f7c39a80a9f"
      },
      "execution_count": null,
      "outputs": [
        {
          "output_type": "stream",
          "name": "stdout",
          "text": [
            "list of strings : ['apple', 'banana', 'cherry', 'apple', 'banana']\n",
            "Set of strings: {'banana', 'cherry', 'apple'}\n"
          ]
        }
      ]
    }
  ]
}